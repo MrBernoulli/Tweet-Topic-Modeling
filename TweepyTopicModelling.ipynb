{
 "cells": [
  {
   "cell_type": "markdown",
   "metadata": {},
   "source": [
    "## Tweet Topic Modeling using Latent Dirichlet Allocation (LDA)"
   ]
  },
  {
   "cell_type": "markdown",
   "metadata": {},
   "source": [
    "We begin by importing dependencies."
   ]
  },
  {
   "cell_type": "code",
   "execution_count": 2,
   "metadata": {},
   "outputs": [],
   "source": [
    "import tweepy\n",
    "from tweepy import OAuthHandler\n",
    "from tweepy import API\n",
    "from tweepy import Cursor\n",
    "from datetime import datetime, date, time, timedelta\n",
    "from collections import Counter\n",
    "import sys\n",
    "import os\n",
    "import jsonpickle\n",
    "import json\n",
    "import re"
   ]
  },
  {
   "cell_type": "markdown",
   "metadata": {},
   "source": [
    "Here we create a tweepy API object that we use to query for data from Twitter. "
   ]
  },
  {
   "cell_type": "code",
   "execution_count": 3,
   "metadata": {},
   "outputs": [],
   "source": [
    "consumer_key=\"9GPJWDdk99uK6BtQjsI2B1gZU\"\n",
    "consumer_secret=\"YzuuPHuilr60BRSLLlD2gyhqMuu79us84wvBbViKfm6wCmd14y\"\n",
    "access_token=\"1194296389074735105-l3oRi4yLVY9wp6iAxjLF5MGZu7IWGN\"\n",
    "access_token_secret=\"bWW2u4rXTEYqJIvi9jnteetEotfg7RwQvTriKo3EdIaR9\"\n",
    "\n",
    "auth = OAuthHandler(consumer_key, consumer_secret)\n",
    "auth.set_access_token(access_token, access_token_secret)\n",
    "auth_api = API(auth)"
   ]
  },
  {
   "cell_type": "markdown",
   "metadata": {},
   "source": [
    "We now pull the last 100 tweets from CNN"
   ]
  },
  {
   "cell_type": "code",
   "execution_count": 40,
   "metadata": {},
   "outputs": [
    {
     "name": "stdout",
     "output_type": "stream",
     "text": [
      "Downloaded 100 tweets\n"
     ]
    }
   ],
   "source": [
    "tweetCount = 0;\n",
    "\n",
    "with open('DirichletTweets.json','w') as f:\n",
    "    for tweet in tweepy.Cursor(auth_api.user_timeline,id='cnn').items():\n",
    "        tweety = jsonpickle.encode(tweet._json, unpicklable=False)\n",
    "        f.write(jsonpickle.encode(tweet._json, unpicklable=False) + '\\n')\n",
    "        tweetCount += 1\n",
    "        \n",
    "        if tweetCount == 100:\n",
    "            break\n",
    "        \n",
    "print(\"Downloaded {0} tweets\".format(tweetCount))"
   ]
  },
  {
   "cell_type": "markdown",
   "metadata": {},
   "source": [
    "Now we create a list of the tweets, with each tweet being a python dictionary from which we proceed to extract\n",
    "the actual content of the tweet which is stored in the \"text\" key of the dictionary."
   ]
  },
  {
   "cell_type": "code",
   "execution_count": 45,
   "metadata": {},
   "outputs": [
    {
     "data": {
      "text/plain": [
       "100"
      ]
     },
     "execution_count": 45,
     "metadata": {},
     "output_type": "execute_result"
    }
   ],
   "source": [
    "tweets = []\n",
    "for line in open('DirichletTweets.json', 'r'):\n",
    "    tweets.append(json.loads(line)[\"text\"])\n",
    "#print(tweets[:10])\n",
    "\n",
    "type(tweets[2])\n",
    "tweets[9]\n",
    "\n",
    "len(tweets)"
   ]
  },
  {
   "cell_type": "markdown",
   "metadata": {},
   "source": [
    "We now remove punctuations and URLs."
   ]
  },
  {
   "cell_type": "code",
   "execution_count": 47,
   "metadata": {},
   "outputs": [],
   "source": [
    "#my_str = \"Hello!!!, he said ---and went.\"\n",
    "# To take input from the user\n",
    "# my_str = input(\"Enter a string: \")\n",
    "\n",
    "# remove punctuation from the string\n",
    "\n",
    "def punctRemover(sentence):\n",
    "    # list the different punctuations\n",
    "    punctuations = '''!()-[]{};:'\"\\,<>./?@#$%^&*_~'''\n",
    "    no_punct = \"\"\n",
    "    for char in sentence:\n",
    "        if char not in punctuations:\n",
    "            no_punct = no_punct + char\n",
    "    return no_punct"
   ]
  },
  {
   "cell_type": "code",
   "execution_count": 50,
   "metadata": {},
   "outputs": [
    {
     "name": "stdout",
     "output_type": "stream",
     "text": [
      "['Police found a fully grown 5footlong American alligator living in the basement of an Ohio home The homeowner sa… ', 'Coronavirus symptoms include a runny nose cough sore throat headache and a fever that can last for a couple of d… ', 'There is no evidence that garlic water vitamin C essential oils colloidal silver or steroids will protect yo… ', '11yearold Star Wars fan Isabella Tadlock was born with a nub on the end of her left arm and no fingers on her r… ', 'Lettuce grown in space is not only tasty and safe for astronauts to eat  its also free of diseasecausing micro… ', 'Heres how Danone yogurt went from being made in a garage to taking over the world  ', 'A quiet revolution is reshaping the agricultural world with farmers like Danie Slabbert saying that if we want to… ', 'On April 29 an asteroid estimated to be between 11 and 25 miles wide will fly by Earth But its not expected to… ', 'Meet Rollerman Wearing a cyborgstyle suit made with carbon fiber and roller skate wheels he can travel at spee… ', 'An Australian newspaper printed an extra eight pages to be used as toilet paper after coronavirus fears prompted cu… ', 'This caterpillar could potentially help solve one of the worlds most pressing environmental problems plastic wast… ', 'Their son was born on Leap Day February 29 2016\\n\\nFour years later their daughter joined the family Her birth d… ', 'Scientists scanned bumblebee brains and found that baby bees can feel the effects of the food contaminated by pesti… ', 'With only two northern white rhinos left in the world a team of women at the San Diego Zoo Institute for Conservat… ', 'Bodycam video shows police officers in Georgia picking up a mother on a cold night and then helping her celebrate h… ', 'There are travel insurance policies that will give you some peace of mind  and a good bit of your money back  i… ', 'Katy Perry and Orlando Bloom are expecting their first child the singer revealed in her latest music video… ', 'As coronavirus continues to spread around the world religious leaders across several faith traditions are modifyin… ', 'In an effort to prevent coronavirus spreading Starbucks is no longer allowing you to use personal mugs dont worr… ', 'Italian Prime Minister has signed a decree that will put most of northern Italy under lockdown because of the coron… ', 'It took a billboard social media campaign and more than five years of searching But doggo Merrick finally found h… ', 'For a few hours residents of the northern Italian town of Castelvetro realized they could have their Lambrusco not… ', 'Instead of throwing it away the festival found a better use sending the meals to tornado victims in Nashville ', 'Two patients who tested positive for the novel coronavirus have died the Florida Department of Health announced Fr… ', 'The ongoing spread of coronavirus is forcing institutions around the world to rethink one particularly germy surfac… ', 'Authorities believe theyve found the remains of 15monthold Evelyn Boswell who was reported missing a little mor… ', 'Former Vice President Joe Biden has launched his largest ad buy so far in the 2020 election investing 12 million… ', 'Amid a coronavirus outbreak in the United States the US Centers for Disease Control and Prevention is encouraging… ', 'The Virginia legislative session comes to a close as state lawmakers will adjourn their 60day session ', 'A woman quarantined aboard the Grand Princess cruise ship off the California coast has stage 4 cancer and is worrie… ', 'Uber will offer drivers and delivery people 14 days of paid sick leave if they fall ill with coronavirus or are pla… ', 'Post Malone interrupted a performance Friday to reassure fans hes fine amid online speculation about his health ', 'After more than three seasons with the Brooklyn Nets Kenny Atkinson is no longer the head coach ', 'A Starbucks employee in downtown Seattle tested positive for the coronavirus leading to the stores closure for a… ', 'Heres how more than 3500 people on board the Grand Princess cruise ship have been passing their time ', 'A total of 206 people have tested positive for coronavirus across the United Kingdom British health officials conf… ', 'Nicola Zingaretti  the head of Italys cogoverning Democratic Party  has announced that he has tested positive… ', 'Ball boys and girls will wear gloves at the BNP Paribas Open international tennis tournament in Indian Wells Calif… ', 'The Nintendo Play Station perhaps the last copy of a video game console that never came to market sold for 3600… ', 'Trump ally Erik Prince has recruited former US and British spies to help a conservative group target Democratic cam… ', 'In her first interview since testifying in the impeachment trial of President Trump last Fall Fiona Hill the pres… ', 'The Golden State Warriors will take on the Philadelphia 76ers in San Francisco later today despite local health off… ', 'The US government is urging people who are sick to stay at home to help prevent the spread of coronavirus\\n\\nBut for… ', 'Even in todays healthconscious world sugarsoaked cereal remains a morning staple for many US kids who are blis… ', 'The number of US coronavirus cases more than tripled this week and local officials are asking thousands of residen… ', 'Post Malone interrupted a performance Friday to reassure fans hes fine amid online speculation about his health ', 'A woman quarantined aboard the Grand Princess cruise ship off the California coast has stage 4 cancer and is worrie… ', 'While the outbreak of coronavirus has been causing havoc with sporting fixtures around the globe a top of the tabl… ', 'Amid a coronavirus outbreak in the United States the US Centers for Disease Control and Prevention is encouraging… ', 'Authorities believe theyve found the remains of 15monthold Evelyn Boswell who was reported missing a little mor… ', 'Two patients who tested positive for the novel coronavirus have died the Florida Department of Health announced Fr… ', 'For a few hours residents of the northern Italian town of Castelvetro realized they could have their Lambrusco not… ', 'It took a billboard social media campaign and more than five years of searching But doggo Merrick finally found h… ', 'The father of a veteran who died by suicide reacts to Pres Trump downplaying traumatic brain injuries \\nI didnt… ', 'A US Navy sailor stationed in Naples Italy has tested positive for coronavirus marking the first positive case f… ', 'Its been almost three years since Lil Uzi Vert lit up the summer with XO Tour Llif3 Now the rapper is official… ', 'He believed God’s plan for him was to become president of the United States and he might have been right See how… ', 'There are just two northern white rhinos left on the planet and theyre both female A group of women at the San D… ', 'Tiger Woods will miss the Players Championship next week at Sawgrass after withdrawing because of a back injury ', 'Even in todays healthconscious world sugarsoaked cereal remains a morning staple for many US kids who are blis… ', 'The number of US coronavirus cases more than tripled this week and local officials are asking thousands of residen… ', 'An epic amount of snow awaits the mushers this year according to Mark Nordman the race marshal Many areas alon… ', 'A total of 206 people have tested positive for coronavirus across the United Kingdom British health officials conf… ', 'Nicola Zingaretti  the head of Italys cogoverning Democratic Party  has announced that he has tested positive… ', 'A Starbucks employee in downtown Seattle tested positive for the coronavirus leading to the stores closure for a… ', 'Calls for plantbased diets to save the planet from the climate crisis are growing louder But there is another qu… ', 'Ball boys and girls will wear gloves at the BNP Paribas Open international tennis tournament in Indian Wells Calif… ', 'On International Womens Day we should take a moment to ask ourselves whether theres more we could be doing to ma… ', 'President Donald Trumps top economic adviser Larry Kudlow falsely claimed that the coronavirus is contained in… ', 'There are now 21 new cases of coronavirus confirmed in New York bringing the statewide total to 76 according to G… ', 'A hotel building in southeastern Chinas Quanzhou city collapsed Saturday night according to the city government… ', 'Amid a coronavirus outbreak in the United States the US Centers for Disease Control and Prevention is encouraging… ', 'CNNs drsanjaygupta examines the amount of testing kits that will be needed in the United States for the coronavir… ', 'A revival of West Side Story has been roiled in protests as one of its stars faces renewed heat for admittedly ex… ', 'For a few hours residents of the northern Italian town of Castelvetro realized they could have their Lambrusco not… ', 'Two patients who tested positive for the novel coronavirus have died the Florida Department of Health announced Fr… ', 'Authorities believe theyve found the remains of 15monthold Evelyn Boswell who was reported missing a little mor… ', 'Just months into his presidency a small circle of senior White House advisers met with Donald Trump about a carefu… ', 'On college campuses across the US the impact of coronavirus could be particularly acute ', 'The residents of a Missouri town awoke to find more than 1000 dead birds and feathers everywhere earlier this week… ', 'In the middle of a coronavirus outbreak Seattle residents adjust to changes  ', 'Taylor Swift is donating 1 million for relief efforts after two tornadoes struck central Tennessee earlier this we… ', 'Monica Aldama is a coach you dont want to mess with or disappoint Shes very much the star of Netflixs latest hi… ', 'Warren supporters mourn that the woman whos widely seen as the most qualified and exceptional person in the race… ', '“I think he has to go in and win Michigan no doubt about it” ForecasterEnten says to smerconish about whether t… ', 'NASAs Curiosity rover captured its highestresolution panorama of the Martian surface including more than a thous… ', 'Meet the young Republicans devoted to fighting climate change  ', '“Hoarding is not going to help The panic is not going to help What’s going to help is focusing our attention on t… ', 'The toy company behind the Plastic Army Women project says the tiny female troops will be ready to deploy in time… ', 'A US Navy sailor stationed in Naples Italy has tested positive for coronavirus marking the first positive case f… ', 'Prince Charles meets Lady Diana Spencer Experience the romance that changed the Windsor dynasty forever\\xa0… ', 'In the middle of a coronavirus outbreak Seattle residents adjust to changes  ', 'On college campuses across the US the impact of coronavirus could be particularly acute ', 'The residents of a Missouri town awoke to find more than 1000 dead birds and feathers everywhere earlier this week… ', 'The moment is finally here NASA is accepting applications for aspiring astronauts ', 'Rep Ruben Gallego a rising progressive star has endorsed fmr VP Joe Biden The move is another blow to Sen Ber… ', 'A Texas man said he waited for a little bit over six hours at a polling center to participate in Super Tuesday… ', 'Starbucks has announced it is temporarily suspending the use of personal cups and tumblers at its stores to help pr… ', 'The US government is urging people who are sick to stay at home to help prevent the spread of coronavirus\\n\\nBut for… ', 'The Florida Atlantic University Student Government created posters to hang in local bars and restaurants to give wo… ']\n"
     ]
    }
   ],
   "source": [
    "def urlRemover(sentence):\n",
    "    pattern = r\"http\\S+\"\n",
    "    return re.sub(pattern,\"\",sentence)\n",
    "\n",
    "new_tweets = []\n",
    "for tweet in tweets:\n",
    "    new_tweets.append(urlRemover(punctRemover(tweet)))\n",
    "\n",
    "print(new_tweets)"
   ]
  },
  {
   "cell_type": "code",
   "execution_count": 62,
   "metadata": {},
   "outputs": [
    {
     "data": {
      "text/html": [
       "<div>\n",
       "<style scoped>\n",
       "    .dataframe tbody tr th:only-of-type {\n",
       "        vertical-align: middle;\n",
       "    }\n",
       "\n",
       "    .dataframe tbody tr th {\n",
       "        vertical-align: top;\n",
       "    }\n",
       "\n",
       "    .dataframe thead th {\n",
       "        text-align: right;\n",
       "    }\n",
       "</style>\n",
       "<table border=\"1\" class=\"dataframe\">\n",
       "  <thead>\n",
       "    <tr style=\"text-align: right;\">\n",
       "      <th></th>\n",
       "      <th>Tweets</th>\n",
       "    </tr>\n",
       "  </thead>\n",
       "  <tbody>\n",
       "    <tr>\n",
       "      <th>0</th>\n",
       "      <td>Police found a fully grown 5footlong American ...</td>\n",
       "    </tr>\n",
       "    <tr>\n",
       "      <th>1</th>\n",
       "      <td>Coronavirus symptoms include a runny nose coug...</td>\n",
       "    </tr>\n",
       "    <tr>\n",
       "      <th>2</th>\n",
       "      <td>There is no evidence that garlic water vitamin...</td>\n",
       "    </tr>\n",
       "    <tr>\n",
       "      <th>3</th>\n",
       "      <td>11yearold Star Wars fan Isabella Tadlock was b...</td>\n",
       "    </tr>\n",
       "    <tr>\n",
       "      <th>4</th>\n",
       "      <td>Lettuce grown in space is not only tasty and s...</td>\n",
       "    </tr>\n",
       "    <tr>\n",
       "      <th>5</th>\n",
       "      <td>Heres how Danone yogurt went from being made i...</td>\n",
       "    </tr>\n",
       "    <tr>\n",
       "      <th>6</th>\n",
       "      <td>A quiet revolution is reshaping the agricultur...</td>\n",
       "    </tr>\n",
       "    <tr>\n",
       "      <th>7</th>\n",
       "      <td>On April 29 an asteroid estimated to be betwee...</td>\n",
       "    </tr>\n",
       "    <tr>\n",
       "      <th>8</th>\n",
       "      <td>Meet Rollerman Wearing a cyborgstyle suit made...</td>\n",
       "    </tr>\n",
       "    <tr>\n",
       "      <th>9</th>\n",
       "      <td>An Australian newspaper printed an extra eight...</td>\n",
       "    </tr>\n",
       "    <tr>\n",
       "      <th>10</th>\n",
       "      <td>This caterpillar could potentially help solve ...</td>\n",
       "    </tr>\n",
       "    <tr>\n",
       "      <th>11</th>\n",
       "      <td>Their son was born on Leap Day February 29 201...</td>\n",
       "    </tr>\n",
       "    <tr>\n",
       "      <th>12</th>\n",
       "      <td>Scientists scanned bumblebee brains and found ...</td>\n",
       "    </tr>\n",
       "    <tr>\n",
       "      <th>13</th>\n",
       "      <td>With only two northern white rhinos left in th...</td>\n",
       "    </tr>\n",
       "    <tr>\n",
       "      <th>14</th>\n",
       "      <td>Bodycam video shows police officers in Georgia...</td>\n",
       "    </tr>\n",
       "    <tr>\n",
       "      <th>15</th>\n",
       "      <td>There are travel insurance policies that will ...</td>\n",
       "    </tr>\n",
       "    <tr>\n",
       "      <th>16</th>\n",
       "      <td>Katy Perry and Orlando Bloom are expecting the...</td>\n",
       "    </tr>\n",
       "    <tr>\n",
       "      <th>17</th>\n",
       "      <td>As coronavirus continues to spread around the ...</td>\n",
       "    </tr>\n",
       "    <tr>\n",
       "      <th>18</th>\n",
       "      <td>In an effort to prevent coronavirus spreading ...</td>\n",
       "    </tr>\n",
       "    <tr>\n",
       "      <th>19</th>\n",
       "      <td>Italian Prime Minister has signed a decree tha...</td>\n",
       "    </tr>\n",
       "  </tbody>\n",
       "</table>\n",
       "</div>"
      ],
      "text/plain": [
       "                                               Tweets\n",
       "0   Police found a fully grown 5footlong American ...\n",
       "1   Coronavirus symptoms include a runny nose coug...\n",
       "2   There is no evidence that garlic water vitamin...\n",
       "3   11yearold Star Wars fan Isabella Tadlock was b...\n",
       "4   Lettuce grown in space is not only tasty and s...\n",
       "5   Heres how Danone yogurt went from being made i...\n",
       "6   A quiet revolution is reshaping the agricultur...\n",
       "7   On April 29 an asteroid estimated to be betwee...\n",
       "8   Meet Rollerman Wearing a cyborgstyle suit made...\n",
       "9   An Australian newspaper printed an extra eight...\n",
       "10  This caterpillar could potentially help solve ...\n",
       "11  Their son was born on Leap Day February 29 201...\n",
       "12  Scientists scanned bumblebee brains and found ...\n",
       "13  With only two northern white rhinos left in th...\n",
       "14  Bodycam video shows police officers in Georgia...\n",
       "15  There are travel insurance policies that will ...\n",
       "16  Katy Perry and Orlando Bloom are expecting the...\n",
       "17  As coronavirus continues to spread around the ...\n",
       "18  In an effort to prevent coronavirus spreading ...\n",
       "19  Italian Prime Minister has signed a decree tha..."
      ]
     },
     "execution_count": 62,
     "metadata": {},
     "output_type": "execute_result"
    }
   ],
   "source": [
    "import pandas as pd\n",
    "\n",
    "df = pd.DataFrame(new_tweets, columns=['Tweets'])\n",
    "df.head(20)\n"
   ]
  },
  {
   "cell_type": "markdown",
   "metadata": {},
   "source": [
    "Loading gensim and nltk libraries"
   ]
  },
  {
   "cell_type": "code",
   "execution_count": 20,
   "metadata": {},
   "outputs": [
    {
     "name": "stderr",
     "output_type": "stream",
     "text": [
      "C:\\Users\\marko\\Anaconda3\\envs\\test_tf\\lib\\site-packages\\gensim\\utils.py:1197: UserWarning: detected Windows; aliasing chunkize to chunkize_serial\n",
      "  warnings.warn(\"detected Windows; aliasing chunkize to chunkize_serial\")\n",
      "[nltk_data] Downloading package wordnet to\n",
      "[nltk_data]     C:\\Users\\marko\\AppData\\Roaming\\nltk_data...\n",
      "[nltk_data]   Unzipping corpora\\wordnet.zip.\n"
     ]
    },
    {
     "data": {
      "text/plain": [
       "True"
      ]
     },
     "execution_count": 20,
     "metadata": {},
     "output_type": "execute_result"
    }
   ],
   "source": [
    "import gensim\n",
    "from gensim.utils import simple_preprocess\n",
    "from gensim.parsing.preprocessing import STOPWORDS\n",
    "from nltk.stem import WordNetLemmatizer, SnowballStemmer\n",
    "from nltk.stem.porter import *\n",
    "import numpy as np\n",
    "np.random.seed(2018)\n",
    "import nltk\n",
    "nltk.download('wordnet')"
   ]
  },
  {
   "cell_type": "code",
   "execution_count": 37,
   "metadata": {},
   "outputs": [
    {
     "name": "stdout",
     "output_type": "stream",
     "text": [
      "this caterpillar could potentially help solve one of the world's most pressing environmental problems: plastic wast… \n"
     ]
    }
   ],
   "source": [
    "stemmer = SnowballStemmer('english')\n",
    "def lemmatize_stemming(text):\n",
    "    return stemmer.stem(WordNetLemmatizer().lemmatize(text, pos='v'))\n",
    "def preprocess(text):\n",
    "    result = []\n",
    "    for token in gensim.utils.simple_preprocess(text):\n",
    "        if token not in gensim.parsing.preprocessing.STOPWORDS and len(token) > 3:\n",
    "            result.append(lemmatize_stemming(token))\n",
    "    return result\n",
    "#answer = lemmatize_stemming('I was running when I went to the place siezing traditional agreed colonizer')\n",
    "answer = lemmatize_stemming(no_http)\n",
    "print(answer)"
   ]
  },
  {
   "cell_type": "code",
   "execution_count": 64,
   "metadata": {},
   "outputs": [
    {
     "data": {
      "text/plain": [
       "0    [polic, fulli, grow, footlong, american, allig...\n",
       "1    [coronavirus, symptom, includ, runni, nose, co...\n",
       "2    [evid, garlic, water, vitamin, essenti, oil, c...\n",
       "3    [yearold, star, war, isabella, tadlock, bear, ...\n",
       "4    [lettuc, grow, space, tasti, safe, astronaut, ...\n",
       "5        [here, danon, yogurt, go, garag, take, world]\n",
       "6    [quiet, revolut, reshap, agricultur, world, fa...\n",
       "7    [april, asteroid, estim, mile, wide, earth, ex...\n",
       "8    [meet, rollerman, wear, cyborgstyl, suit, carb...\n",
       "9    [australian, newspap, print, extra, page, toil...\n",
       "Name: Tweets, dtype: object"
      ]
     },
     "execution_count": 64,
     "metadata": {},
     "output_type": "execute_result"
    }
   ],
   "source": [
    "processed_tweets = df['Tweets'].map(preprocess)\n",
    "processed_tweets[:10]"
   ]
  },
  {
   "cell_type": "markdown",
   "metadata": {},
   "source": [
    "We now create a dictionary bag of words from the tweets"
   ]
  },
  {
   "cell_type": "code",
   "execution_count": 81,
   "metadata": {},
   "outputs": [
    {
     "name": "stdout",
     "output_type": "stream",
     "text": [
      "0 allig\n",
      "1 american\n",
      "2 basement\n",
      "3 footlong\n",
      "4 fulli\n",
      "5 grow\n",
      "6 home\n",
      "7 homeown\n",
      "8 live\n",
      "9 ohio\n",
      "10 polic\n",
      "{'allig': 0, 'american': 1, 'basement': 2, 'footlong': 3, 'fulli': 4, 'grow': 5, 'home': 6, 'homeown': 7, 'live': 8, 'ohio': 9, 'polic': 10, 'coronavirus': 11, 'cough': 12, 'coupl': 13, 'fever': 14, 'headach': 15, 'includ': 16, 'nose': 17, 'runni': 18, 'sore': 19, 'symptom': 20, 'throat': 21, 'colloid': 22, 'essenti': 23, 'evid': 24, 'garlic': 25, 'oil': 26, 'protect': 27, 'silver': 28, 'steroid': 29, 'vitamin': 30, 'water': 31, 'bear': 32, 'finger': 33, 'isabella': 34, 'leav': 35, 'star': 36, 'tadlock': 37, 'war': 38, 'yearold': 39, 'astronaut': 40, 'diseasecaus': 41, 'free': 42, 'lettuc': 43, 'micro': 44, 'safe': 45, 'space': 46, 'tasti': 47, 'danon': 48, 'garag': 49, 'go': 50, 'here': 51, 'take': 52, 'world': 53, 'yogurt': 54, 'agricultur': 55, 'dani': 56, 'farmer': 57, 'like': 58, 'quiet': 59, 'reshap': 60, 'revolut': 61, 'say': 62, 'slabbert': 63, 'want': 64, 'april': 65, 'asteroid': 66, 'earth': 67, 'estim': 68, 'expect': 69, 'mile': 70, 'wide': 71, 'carbon': 72, 'cyborgstyl': 73, 'fiber': 74, 'meet': 75, 'roller': 76, 'rollerman': 77, 'skate': 78, 'spee': 79, 'suit': 80, 'travel': 81, 'wear': 82, 'wheel': 83, 'australian': 84, 'extra': 85, 'fear': 86, 'newspap': 87, 'page': 88, 'paper': 89, 'print': 90, 'prompt': 91, 'toilet': 92, 'caterpillar': 93, 'environment': 94, 'help': 95, 'plastic': 96, 'potenti': 97, 'press': 98, 'problem': 99, 'solv': 100, 'wast': 101, 'birth': 102, 'daughter': 103, 'famili': 104, 'februari': 105, 'join': 106, 'later': 107, 'leap': 108, 'year': 109, 'babi': 110, 'be': 111, 'brain': 112, 'bumblebe': 113, 'contamin': 114, 'effect': 115, 'feel': 116, 'food': 117, 'pesti': 118, 'scan': 119, 'scientist': 120, 'conservat': 121, 'diego': 122, 'institut': 123, 'northern': 124, 'rhino': 125, 'team': 126, 'white': 127, 'women': 128, 'bodycam': 129, 'celebr': 130, 'cold': 131, 'georgia': 132, 'mother': 133, 'night': 134, 'offic': 135, 'pick': 136, 'show': 137, 'video': 138, 'good': 139, 'insur': 140, 'mind': 141, 'money': 142, 'peac': 143, 'polici': 144, 'bloom': 145, 'child': 146, 'kati': 147, 'latest': 148, 'music': 149, 'orlando': 150, 'perri': 151, 'reveal': 152, 'singer': 153, 'continu': 154, 'faith': 155, 'leader': 156, 'modifyin': 157, 'religi': 158, 'spread': 159, 'tradit': 160, 'allow': 161, 'dont': 162, 'effort': 163, 'longer': 164, 'mug': 165, 'person': 166, 'prevent': 167, 'starbuck': 168, 'worr': 169, 'coron': 170, 'decre': 171, 'itali': 172, 'italian': 173, 'lockdown': 174, 'minist': 175, 'prime': 176, 'sign': 177, 'billboard': 178, 'campaign': 179, 'doggo': 180, 'final': 181, 'media': 182, 'merrick': 183, 'search': 184, 'social': 185, 'castelvetro': 186, 'hour': 187, 'lambrusco': 188, 'realiz': 189, 'resid': 190, 'town': 191, 'away': 192, 'better': 193, 'festiv': 194, 'instead': 195, 'meal': 196, 'nashvill': 197, 'send': 198, 'throw': 199, 'tornado': 200, 'victim': 201, 'announc': 202, 'depart': 203, 'die': 204, 'florida': 205, 'health': 206, 'novel': 207, 'patient': 208, 'posit': 209, 'test': 210, 'forc': 211, 'germi': 212, 'ongo': 213, 'particular': 214, 'rethink': 215, 'surfac': 216, 'author': 217, 'believ': 218, 'boswel': 219, 'evelyn': 220, 'littl': 221, 'miss': 222, 'monthold': 223, 'remain': 224, 'report': 225, 'theyv': 226, 'biden': 227, 'elect': 228, 'invest': 229, 'largest': 230, 'launch': 231, 'million': 232, 'presid': 233, 'vice': 234, 'amid': 235, 'center': 236, 'control': 237, 'diseas': 238, 'encourag': 239, 'outbreak': 240, 'state': 241, 'unit': 242, 'adjourn': 243, 'close': 244, 'come': 245, 'lawmak': 246, 'legisl': 247, 'session': 248, 'virginia': 249, 'aboard': 250, 'california': 251, 'cancer': 252, 'coast': 253, 'cruis': 254, 'grand': 255, 'princess': 256, 'quarantin': 257, 'ship': 258, 'stage': 259, 'woman': 260, 'worri': 261, 'day': 262, 'deliveri': 263, 'driver': 264, 'fall': 265, 'offer': 266, 'pay': 267, 'peopl': 268, 'sick': 269, 'uber': 270, 'fan': 271, 'fine': 272, 'friday': 273, 'interrupt': 274, 'malon': 275, 'onlin': 276, 'perform': 277, 'post': 278, 'reassur': 279, 'specul': 280, 'atkinson': 281, 'brooklyn': 282, 'coach': 283, 'head': 284, 'kenni': 285, 'net': 286, 'season': 287, 'closur': 288, 'downtown': 289, 'employe': 290, 'lead': 291, 'seattl': 292, 'store': 293, 'board': 294, 'pass': 295, 'time': 296, 'british': 297, 'conf': 298, 'kingdom': 299, 'offici': 300, 'total': 301, 'cogovern': 302, 'democrat': 303, 'nicola': 304, 'parti': 305, 'zingaretti': 306, 'ball': 307, 'boy': 308, 'calif': 309, 'girl': 310, 'glove': 311, 'indian': 312, 'intern': 313, 'open': 314, 'pariba': 315, 'tenni': 316, 'tournament': 317, 'well': 318, 'consol': 319, 'copi': 320, 'game': 321, 'market': 322, 'nintendo': 323, 'play': 324, 'sell': 325, 'station': 326, 'alli': 327, 'conserv': 328, 'erik': 329, 'group': 330, 'princ': 331, 'recruit': 332, 'spi': 333, 'target': 334, 'trump': 335, 'fiona': 336, 'hill': 337, 'impeach': 338, 'interview': 339, 'pres': 340, 'testifi': 341, 'trial': 342, 'despit': 343, 'francisco': 344, 'golden': 345, 'local': 346, 'philadelphia': 347, 'today': 348, 'warrior': 349, 'govern': 350, 'stay': 351, 'urg': 352, 'blis': 353, 'cereal': 354, 'healthconsci': 355, 'kid': 356, 'morn': 357, 'stapl': 358, 'sugarsoak': 359, 'ask': 360, 'case': 361, 'number': 362, 'residen': 363, 'thousand': 364, 'tripl': 365, 'week': 366, 'caus': 367, 'fixtur': 368, 'globe': 369, 'havoc': 370, 'sport': 371, 'tabl': 372, 'didnt': 373, 'downplay': 374, 'father': 375, 'injuri': 376, 'react': 377, 'suicid': 378, 'traumat': 379, 'veteran': 380, 'mark': 381, 'napl': 382, 'navi': 383, 'sailor': 384, 'llif': 385, 'rapper': 386, 'summer': 387, 'tour': 388, 'vert': 389, 'plan': 390, 'right': 391, 'femal': 392, 'planet': 393, 'theyr': 394, 'championship': 395, 'player': 396, 'sawgrass': 397, 'tiger': 398, 'withdraw': 399, 'wood': 400, 'accord': 401, 'alon': 402, 'area': 403, 'await': 404, 'epic': 405, 'marshal': 406, 'musher': 407, 'nordman': 408, 'race': 409, 'snow': 410, 'call': 411, 'climat': 412, 'crisi': 413, 'diet': 414, 'louder': 415, 'plantbas': 416, 'save': 417, 'moment': 418, 'there': 419, 'advis': 420, 'claim': 421, 'contain': 422, 'donald': 423, 'econom': 424, 'fals': 425, 'kudlow': 426, 'larri': 427, 'bring': 428, 'confirm': 429, 'statewid': 430, 'york': 431, 'build': 432, 'china': 433, 'citi': 434, 'collaps': 435, 'hotel': 436, 'quanzhou': 437, 'saturday': 438, 'southeastern': 439, 'cnns': 440, 'coronavir': 441, 'drsanjaygupta': 442, 'examin': 443, 'kit': 444, 'need': 445, 'admit': 446, 'face': 447, 'heat': 448, 'protest': 449, 'renew': 450, 'reviv': 451, 'roil': 452, 'stori': 453, 'west': 454, 'carefu': 455, 'circl': 456, 'hous': 457, 'month': 458, 'senior': 459, 'small': 460, 'acut': 461, 'campus': 462, 'colleg': 463, 'impact': 464, 'awak': 465, 'bird': 466, 'dead': 467, 'earlier': 468, 'feather': 469, 'missouri': 470, 'adjust': 471, 'chang': 472, 'middl': 473, 'central': 474, 'donat': 475, 'relief': 476, 'strike': 477, 'swift': 478, 'taylor': 479, 'tennesse': 480, 'aldama': 481, 'disappoint': 482, 'mess': 483, 'monica': 484, 'netflix': 485, 'shes': 486, 'except': 487, 'mourn': 488, 'qualifi': 489, 'see': 490, 'support': 491, 'warren': 492, 'whos': 493, 'doubt': 494, 'forecasterenten': 495, 'michigan': 496, 'smerconish': 497, 'think': 498, 'captur': 499, 'curios': 500, 'martian': 501, 'nasa': 502, 'panorama': 503, 'rover': 504, 'thous': 505, 'devot': 506, 'fight': 507, 'republican': 508, 'young': 509, 'attent': 510, 'focus': 511, 'hoard': 512, 'panic': 513, 'armi': 514, 'compani': 515, 'deploy': 516, 'project': 517, 'readi': 518, 'tini': 519, 'troop': 520, 'charl': 521, 'diana': 522, 'dynasti': 523, 'experi': 524, 'forev': 525, 'ladi': 526, 'romanc': 527, 'spencer': 528, 'windsor': 529, 'accept': 530, 'applic': 531, 'aspir': 532, 'blow': 533, 'endors': 534, 'gallego': 535, 'progress': 536, 'rise': 537, 'ruben': 538, 'particip': 539, 'poll': 540, 'super': 541, 'texa': 542, 'tuesday': 543, 'wait': 544, 'cup': 545, 'suspend': 546, 'temporarili': 547, 'tumbler': 548, 'atlant': 549, 'bar': 550, 'creat': 551, 'hang': 552, 'poster': 553, 'restaur': 554, 'student': 555, 'univers': 556}\n"
     ]
    },
    {
     "data": {
      "text/plain": [
       "[(75, 1), (412, 1), (472, 1), (506, 1), (507, 1), (508, 1), (509, 1)]"
      ]
     },
     "execution_count": 81,
     "metadata": {},
     "output_type": "execute_result"
    }
   ],
   "source": [
    "lexicon = gensim.corpora.Dictionary(processed_tweets)\n",
    "\n",
    "count = 0\n",
    "for k, v in lexicon.iteritems():\n",
    "    print(k, v)\n",
    "    count += 1\n",
    "    if count > 10:\n",
    "        break\n",
    "        \n",
    "print(lexicon.token2id)\n",
    "\n",
    "bow_corpus = [lexicon.doc2bow(doc) for doc in processed_tweets]\n",
    "bow_corpus[86]"
   ]
  },
  {
   "cell_type": "code",
   "execution_count": 82,
   "metadata": {},
   "outputs": [
    {
     "name": "stdout",
     "output_type": "stream",
     "text": [
      "Topic: 0 \n",
      "Words: 0.029*\"coronavirus\" + 0.027*\"test\" + 0.027*\"offici\" + 0.022*\"posit\" + 0.016*\"local\" + 0.016*\"unit\" + 0.012*\"health\" + 0.012*\"case\" + 0.011*\"week\" + 0.011*\"announc\"\n",
      "Topic: 1 \n",
      "Words: 0.029*\"remain\" + 0.019*\"state\" + 0.019*\"unit\" + 0.019*\"outbreak\" + 0.019*\"prevent\" + 0.019*\"encourag\" + 0.019*\"center\" + 0.019*\"control\" + 0.019*\"diseas\" + 0.019*\"amid\"\n",
      "Topic: 2 \n",
      "Words: 0.031*\"resid\" + 0.025*\"coronavirus\" + 0.020*\"northern\" + 0.020*\"town\" + 0.020*\"hour\" + 0.020*\"italian\" + 0.020*\"realiz\" + 0.020*\"lambrusco\" + 0.020*\"castelvetro\" + 0.018*\"outbreak\"\n",
      "Topic: 3 \n",
      "Words: 0.020*\"woman\" + 0.015*\"race\" + 0.015*\"million\" + 0.015*\"biden\" + 0.013*\"quarantin\" + 0.013*\"worri\" + 0.013*\"aboard\" + 0.013*\"cancer\" + 0.013*\"california\" + 0.013*\"ship\"\n",
      "Topic: 4 \n",
      "Words: 0.021*\"coronavirus\" + 0.011*\"particular\" + 0.011*\"world\" + 0.011*\"moment\" + 0.011*\"video\" + 0.011*\"peopl\" + 0.011*\"spread\" + 0.011*\"grand\" + 0.011*\"cruis\" + 0.011*\"expect\"\n",
      "Topic: 5 \n",
      "Words: 0.021*\"govern\" + 0.018*\"amid\" + 0.017*\"prevent\" + 0.017*\"coronavirus\" + 0.016*\"health\" + 0.016*\"perform\" + 0.016*\"fan\" + 0.016*\"fine\" + 0.016*\"specul\" + 0.016*\"citi\"\n",
      "Topic: 6 \n",
      "Words: 0.049*\"coronavirus\" + 0.045*\"posit\" + 0.035*\"test\" + 0.015*\"depart\" + 0.015*\"die\" + 0.015*\"novel\" + 0.015*\"announc\" + 0.015*\"florida\" + 0.015*\"patient\" + 0.015*\"health\"\n",
      "Topic: 7 \n",
      "Words: 0.018*\"women\" + 0.012*\"world\" + 0.012*\"leav\" + 0.012*\"femal\" + 0.012*\"plastic\" + 0.012*\"northern\" + 0.009*\"coronavirus\" + 0.008*\"intern\" + 0.007*\"peopl\" + 0.007*\"pay\"\n",
      "Topic: 8 \n",
      "Words: 0.031*\"help\" + 0.019*\"go\" + 0.019*\"say\" + 0.013*\"resid\" + 0.013*\"year\" + 0.013*\"take\" + 0.013*\"trump\" + 0.013*\"doggo\" + 0.013*\"search\" + 0.013*\"final\"\n",
      "Topic: 9 \n",
      "Words: 0.016*\"presid\" + 0.015*\"longer\" + 0.013*\"intern\" + 0.013*\"pariba\" + 0.013*\"glove\" + 0.013*\"calif\" + 0.013*\"well\" + 0.013*\"wear\" + 0.013*\"girl\" + 0.013*\"ball\"\n"
     ]
    }
   ],
   "source": [
    "lda_model = gensim.models.LdaMulticore(bow_corpus, num_topics=10, id2word=lexicon, passes=2, workers=2)\n",
    "\n",
    "for idx, topic in lda_model.print_topics(-1):\n",
    "    print('Topic: {} \\nWords: {}'.format(idx, topic))"
   ]
  }
 ],
 "metadata": {
  "kernelspec": {
   "display_name": "Python 3",
   "language": "python",
   "name": "python3"
  },
  "language_info": {
   "codemirror_mode": {
    "name": "ipython",
    "version": 3
   },
   "file_extension": ".py",
   "mimetype": "text/x-python",
   "name": "python",
   "nbconvert_exporter": "python",
   "pygments_lexer": "ipython3",
   "version": "3.7.3"
  }
 },
 "nbformat": 4,
 "nbformat_minor": 2
}
